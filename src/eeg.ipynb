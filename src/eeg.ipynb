{
 "cells": [
  {
   "cell_type": "code",
   "execution_count": 18,
   "metadata": {},
   "outputs": [
    {
     "ename": "ImportError",
     "evalue": "cannot import name 'CSVDataHandler' from 'datamaking' (/Users/sumitpandey/Downloads/EEG-consciousness/src/datamaking.py)",
     "output_type": "error",
     "traceback": [
      "\u001b[0;31m---------------------------------------------------------------------------\u001b[0m",
      "\u001b[0;31mImportError\u001b[0m                               Traceback (most recent call last)",
      "Cell \u001b[0;32mIn[18], line 8\u001b[0m\n\u001b[1;32m      4\u001b[0m \u001b[38;5;28;01mimport\u001b[39;00m \u001b[38;5;21;01mglob\u001b[39;00m \n\u001b[1;32m      5\u001b[0m \u001b[38;5;28;01mimport\u001b[39;00m \u001b[38;5;21;01mos\u001b[39;00m \n\u001b[0;32m----> 8\u001b[0m \u001b[38;5;28;01mfrom\u001b[39;00m \u001b[38;5;21;01mdatamaking\u001b[39;00m \u001b[38;5;28;01mimport\u001b[39;00m CSVDataHandler\n\u001b[1;32m     11\u001b[0m \u001b[38;5;28;01mimport\u001b[39;00m \u001b[38;5;21;01mmatplotlib\u001b[39;00m\u001b[38;5;21;01m.\u001b[39;00m\u001b[38;5;21;01mpyplot\u001b[39;00m \u001b[38;5;28;01mas\u001b[39;00m \u001b[38;5;21;01mplt\u001b[39;00m\n",
      "\u001b[0;31mImportError\u001b[0m: cannot import name 'CSVDataHandler' from 'datamaking' (/Users/sumitpandey/Downloads/EEG-consciousness/src/datamaking.py)"
     ]
    }
   ],
   "source": [
    "import pandas as pd\n",
    "import mne \n",
    "import pandas \n",
    "import glob \n",
    "import os \n",
    "\n",
    "\n",
    "from datamaking import CSVDataHandler\n",
    "\n",
    "\n",
    "import matplotlib.pyplot as plt"
   ]
  },
  {
   "cell_type": "code",
   "execution_count": null,
   "metadata": {},
   "outputs": [],
   "source": []
  },
  {
   "cell_type": "markdown",
   "metadata": {},
   "source": [
    "# Step 1: Convert all edf files to .csv"
   ]
  },
  {
   "cell_type": "code",
   "execution_count": 2,
   "metadata": {},
   "outputs": [],
   "source": [
    "\n",
    "# get the names of edf files \n",
    "edf_files = os.listdir(\"/Users/sumitpandey/Downloads/EEG-consciousness/EDF files/\")\n",
    "edf_files \n",
    "i = 0\n",
    "edf_file_path = \"/Users/sumitpandey/Downloads/EEG-consciousness/EDF files/\"+edf_files[i] # edf file path \n",
    " \n",
    "csv_file_path = \"/Users/sumitpandey/Downloads/EEG-consciousness/input_data/\"+edf_files[i][:-3]+'csv' # where the files will be saved "
   ]
  },
  {
   "cell_type": "code",
   "execution_count": 16,
   "metadata": {},
   "outputs": [
    {
     "name": "stdout",
     "output_type": "stream",
     "text": [
      "Extracting EDF parameters from /Users/sumitpandey/Downloads/EEG-consciousness/EDF files/10GK-EDF+1.edf...\n",
      "EDF file detected\n",
      "Setting channel info structure...\n",
      "Creating raw.info structure...\n",
      "Reading 0 ... 1209999  =      0.000 ...  4839.996 secs...\n",
      "Extracting EDF parameters from /Users/sumitpandey/Downloads/EEG-consciousness/EDF files/01CX-EDF+.edf...\n",
      "EDF file detected\n",
      "Setting channel info structure...\n",
      "Creating raw.info structure...\n",
      "Reading 0 ... 77249  =      0.000 ...   308.996 secs...\n",
      "Extracting EDF parameters from /Users/sumitpandey/Downloads/EEG-consciousness/EDF files/01CX-EDF+1.edf...\n",
      "EDF file detected\n",
      "Setting channel info structure...\n",
      "Creating raw.info structure...\n",
      "Reading 0 ... 898749  =      0.000 ...  3594.996 secs...\n",
      "Extracting EDF parameters from /Users/sumitpandey/Downloads/EEG-consciousness/EDF files/09FN-EDF+.edf...\n",
      "EDF file detected\n",
      "Setting channel info structure...\n",
      "Creating raw.info structure...\n",
      "Reading 0 ... 1243249  =      0.000 ...  4972.996 secs...\n",
      "Extracting EDF parameters from /Users/sumitpandey/Downloads/EEG-consciousness/EDF files/03TN-EDF+.edf...\n",
      "EDF file detected\n",
      "Setting channel info structure...\n",
      "Creating raw.info structure...\n",
      "Reading 0 ... 470249  =      0.000 ...  1880.996 secs...\n",
      "Extracting EDF parameters from /Users/sumitpandey/Downloads/EEG-consciousness/EDF files/06IP-EDF+1.edf...\n",
      "EDF file detected\n",
      "Setting channel info structure...\n",
      "Creating raw.info structure...\n",
      "Reading 0 ... 684999  =      0.000 ...  2739.996 secs...\n",
      "Extracting EDF parameters from /Users/sumitpandey/Downloads/EEG-consciousness/EDF files/07CN-EDF+.edf...\n",
      "EDF file detected\n",
      "Setting channel info structure...\n",
      "Creating raw.info structure...\n",
      "Reading 0 ... 1445249  =      0.000 ...  5780.996 secs...\n",
      "Extracting EDF parameters from /Users/sumitpandey/Downloads/EEG-consciousness/EDF files/11JU-EDF+.edf...\n",
      "EDF file detected\n",
      "Setting channel info structure...\n",
      "Creating raw.info structure...\n",
      "Reading 0 ... 4749  =      0.000 ...    18.996 secs...\n",
      "Extracting EDF parameters from /Users/sumitpandey/Downloads/EEG-consciousness/EDF files/15QL-EDF+.edf...\n",
      "EDF file detected\n",
      "Setting channel info structure...\n",
      "Creating raw.info structure...\n",
      "Reading 0 ... 1453999  =      0.000 ...  5815.996 secs...\n",
      "Extracting EDF parameters from /Users/sumitpandey/Downloads/EEG-consciousness/EDF files/03TN-EDF+5.edf...\n",
      "EDF file detected\n",
      "Setting channel info structure...\n",
      "Creating raw.info structure...\n",
      "Reading 0 ... 676999  =      0.000 ...  2707.996 secs...\n",
      "Extracting EDF parameters from /Users/sumitpandey/Downloads/EEG-consciousness/EDF files/13IS-EDF+.edf...\n",
      "EDF file detected\n",
      "Setting channel info structure...\n",
      "Creating raw.info structure...\n",
      "Reading 0 ... 35999  =      0.000 ...   143.996 secs...\n",
      "Extracting EDF parameters from /Users/sumitpandey/Downloads/EEG-consciousness/EDF files/13IS-EDF+1.edf...\n",
      "EDF file detected\n",
      "Setting channel info structure...\n",
      "Creating raw.info structure...\n",
      "Reading 0 ... 216749  =      0.000 ...   866.996 secs...\n",
      "Extracting EDF parameters from /Users/sumitpandey/Downloads/EEG-consciousness/EDF files/11JU-EDF+1.edf...\n",
      "EDF file detected\n",
      "Setting channel info structure...\n",
      "Creating raw.info structure...\n",
      "Reading 0 ... 555499  =      0.000 ...  2221.996 secs...\n",
      "Extracting EDF parameters from /Users/sumitpandey/Downloads/EEG-consciousness/EDF files/03TN-EDF+4.edf...\n",
      "EDF file detected\n",
      "Setting channel info structure...\n",
      "Creating raw.info structure...\n",
      "Reading 0 ... 76249  =      0.000 ...   304.996 secs...\n",
      "Extracting EDF parameters from /Users/sumitpandey/Downloads/EEG-consciousness/EDF files/14LO-EDF+.edf...\n",
      "EDF file detected\n",
      "Setting channel info structure...\n",
      "Creating raw.info structure...\n",
      "Reading 0 ... 1171249  =      0.000 ...  4684.996 secs...\n",
      "Extracting EDF parameters from /Users/sumitpandey/Downloads/EEG-consciousness/EDF files/13IS-EDF+3.edf...\n",
      "EDF file detected\n",
      "Setting channel info structure...\n",
      "Creating raw.info structure...\n",
      "Reading 0 ... 943749  =      0.000 ...  3774.996 secs...\n",
      "Extracting EDF parameters from /Users/sumitpandey/Downloads/EEG-consciousness/EDF files/11JU-EDF+3.edf...\n",
      "EDF file detected\n",
      "Setting channel info structure...\n",
      "Creating raw.info structure...\n",
      "Reading 0 ... 431749  =      0.000 ...  1726.996 secs...\n",
      "Extracting EDF parameters from /Users/sumitpandey/Downloads/EEG-consciousness/EDF files/04IW-EDF+.edf...\n",
      "EDF file detected\n",
      "Setting channel info structure...\n",
      "Creating raw.info structure...\n",
      "Reading 0 ... 394249  =      0.000 ...  1576.996 secs...\n",
      "Extracting EDF parameters from /Users/sumitpandey/Downloads/EEG-consciousness/EDF files/11JU-EDF+2.edf...\n",
      "EDF file detected\n",
      "Setting channel info structure...\n",
      "Creating raw.info structure...\n",
      "Reading 0 ... 144749  =      0.000 ...   578.996 secs...\n",
      "Extracting EDF parameters from /Users/sumitpandey/Downloads/EEG-consciousness/EDF files/13IS-EDF+2.edf...\n",
      "EDF file detected\n",
      "Setting channel info structure...\n",
      "Creating raw.info structure...\n",
      "Reading 0 ... 7499  =      0.000 ...    29.996 secs...\n",
      "Extracting EDF parameters from /Users/sumitpandey/Downloads/EEG-consciousness/EDF files/12SG-EDF+.edf...\n",
      "EDF file detected\n",
      "Setting channel info structure...\n",
      "Creating raw.info structure...\n",
      "Reading 0 ... 20249  =      0.000 ...    80.996 secs...\n",
      "Extracting EDF parameters from /Users/sumitpandey/Downloads/EEG-consciousness/EDF files/03TN-EDF+3.edf...\n",
      "EDF file detected\n",
      "Setting channel info structure...\n",
      "Creating raw.info structure...\n",
      "Reading 0 ... 5999  =      0.000 ...    23.996 secs...\n",
      "Extracting EDF parameters from /Users/sumitpandey/Downloads/EEG-consciousness/EDF files/03TN-EDF+2.edf...\n",
      "EDF file detected\n",
      "Setting channel info structure...\n",
      "Creating raw.info structure...\n",
      "Reading 0 ... 12499  =      0.000 ...    49.996 secs...\n",
      "Extracting EDF parameters from /Users/sumitpandey/Downloads/EEG-consciousness/EDF files/11JU-EDF+5.edf...\n",
      "EDF file detected\n",
      "Setting channel info structure...\n",
      "Creating raw.info structure...\n",
      "Reading 0 ... 87749  =      0.000 ...   350.996 secs...\n",
      "Extracting EDF parameters from /Users/sumitpandey/Downloads/EEG-consciousness/EDF files/11JU-EDF+4.edf...\n",
      "EDF file detected\n",
      "Setting channel info structure...\n",
      "Creating raw.info structure...\n",
      "Reading 0 ... 10499  =      0.000 ...    41.996 secs...\n",
      "Extracting EDF parameters from /Users/sumitpandey/Downloads/EEG-consciousness/EDF files/06IP-EDF+.edf...\n",
      "EDF file detected\n",
      "Setting channel info structure...\n",
      "Creating raw.info structure...\n",
      "Reading 0 ... 617249  =      0.000 ...  2468.996 secs...\n",
      "Extracting EDF parameters from /Users/sumitpandey/Downloads/EEG-consciousness/EDF files/03TN-EDF+1.edf...\n",
      "EDF file detected\n",
      "Setting channel info structure...\n",
      "Creating raw.info structure...\n",
      "Reading 0 ... 7749  =      0.000 ...    30.996 secs...\n",
      "Extracting EDF parameters from /Users/sumitpandey/Downloads/EEG-consciousness/EDF files/05IX-EDF+2.edf...\n",
      "EDF file detected\n",
      "Setting channel info structure...\n",
      "Creating raw.info structure...\n",
      "Reading 0 ... 540499  =      0.000 ...  2161.996 secs...\n",
      "Extracting EDF parameters from /Users/sumitpandey/Downloads/EEG-consciousness/EDF files/04IW-EDF+4.edf...\n",
      "EDF file detected\n",
      "Setting channel info structure...\n",
      "Creating raw.info structure...\n",
      "Reading 0 ... 149999  =      0.000 ...   599.996 secs...\n",
      "Extracting EDF parameters from /Users/sumitpandey/Downloads/EEG-consciousness/EDF files/04IW-EDF+5.edf...\n",
      "EDF file detected\n",
      "Setting channel info structure...\n",
      "Creating raw.info structure...\n",
      "Reading 0 ... 247499  =      0.000 ...   989.996 secs...\n",
      "Extracting EDF parameters from /Users/sumitpandey/Downloads/EEG-consciousness/EDF files/08KQ-EDF+.edf...\n",
      "EDF file detected\n",
      "Setting channel info structure...\n",
      "Creating raw.info structure...\n",
      "Reading 0 ... 1618999  =      0.000 ...  6475.996 secs...\n",
      "Extracting EDF parameters from /Users/sumitpandey/Downloads/EEG-consciousness/EDF files/05IX-EDF+1.edf...\n",
      "EDF file detected\n",
      "Setting channel info structure...\n",
      "Creating raw.info structure...\n",
      "Reading 0 ... 735749  =      0.000 ...  2942.996 secs...\n",
      "Extracting EDF parameters from /Users/sumitpandey/Downloads/EEG-consciousness/EDF files/04IW-EDF+6.edf...\n",
      "EDF file detected\n",
      "Setting channel info structure...\n",
      "Creating raw.info structure...\n",
      "Reading 0 ... 236999  =      0.000 ...   947.996 secs...\n",
      "Extracting EDF parameters from /Users/sumitpandey/Downloads/EEG-consciousness/EDF files/12SG-EDF+1.edf...\n",
      "EDF file detected\n",
      "Setting channel info structure...\n",
      "Creating raw.info structure...\n",
      "Reading 0 ... 1362499  =      0.000 ...  5449.996 secs...\n",
      "Extracting EDF parameters from /Users/sumitpandey/Downloads/EEG-consciousness/EDF files/04IW-EDF+2.edf...\n",
      "EDF file detected\n",
      "Setting channel info structure...\n",
      "Creating raw.info structure...\n",
      "Reading 0 ... 28999  =      0.000 ...   115.996 secs...\n",
      "Extracting EDF parameters from /Users/sumitpandey/Downloads/EEG-consciousness/EDF files/10GK-EDF+.edf...\n",
      "EDF file detected\n",
      "Setting channel info structure...\n",
      "Creating raw.info structure...\n",
      "Reading 0 ... 41249  =      0.000 ...   164.996 secs...\n",
      "Extracting EDF parameters from /Users/sumitpandey/Downloads/EEG-consciousness/EDF files/04IW-EDF+3.edf...\n",
      "EDF file detected\n",
      "Setting channel info structure...\n",
      "Creating raw.info structure...\n",
      "Reading 0 ... 36749  =      0.000 ...   146.996 secs...\n",
      "Extracting EDF parameters from /Users/sumitpandey/Downloads/EEG-consciousness/EDF files/12SG-EDF+2.edf...\n",
      "EDF file detected\n",
      "Setting channel info structure...\n",
      "Creating raw.info structure...\n",
      "Reading 0 ... 4749  =      0.000 ...    18.996 secs...\n",
      "Extracting EDF parameters from /Users/sumitpandey/Downloads/EEG-consciousness/EDF files/04IW-EDF+1.edf...\n",
      "EDF file detected\n",
      "Setting channel info structure...\n",
      "Creating raw.info structure...\n",
      "Reading 0 ... 239749  =      0.000 ...   958.996 secs...\n",
      "Extracting EDF parameters from /Users/sumitpandey/Downloads/EEG-consciousness/EDF files/05IX-EDF+.edf...\n",
      "EDF file detected\n",
      "Setting channel info structure...\n",
      "Creating raw.info structure...\n",
      "Reading 0 ... 29249  =      0.000 ...   116.996 secs...\n",
      "Extracting EDF parameters from /Users/sumitpandey/Downloads/EEG-consciousness/EDF files/02IT-EDF+.edf...\n",
      "EDF file detected\n",
      "Setting channel info structure...\n",
      "Creating raw.info structure...\n",
      "Reading 0 ... 1144499  =      0.000 ...  4577.996 secs...\n"
     ]
    }
   ],
   "source": [
    "\n",
    "\n",
    "# run a loop to convert the all edf files to .csv \n",
    "\n",
    "for i in range(len(edf_files)):\n",
    "    edf_file_path = \"/Users/sumitpandey/Downloads/EEG-consciousness/EDF files/\"+edf_files[i]\n",
    "\n",
    "    csv_file_path = \"/Users/sumitpandey/Downloads/EEG-consciousness/input_data/\"+edf_files[i][:-3]+'csv'\n",
    "    convert_edf_to_csv(edf_file_path, csv_file_path)"
   ]
  },
  {
   "cell_type": "markdown",
   "metadata": {},
   "source": [
    "### Step 2: Devide the dataset into two parts: training and testing dataset (for the time being i am doin this part manually)"
   ]
  },
  {
   "cell_type": "markdown",
   "metadata": {},
   "source": [
    "# read few file show data:"
   ]
  },
  {
   "cell_type": "code",
   "execution_count": 7,
   "metadata": {},
   "outputs": [
    {
     "data": {
      "text/plain": [
       "'/Users/sumitpandey/Downloads/EEG-consciousness/input_data/train/10GK-EDF+1.csv'"
      ]
     },
     "execution_count": 7,
     "metadata": {},
     "output_type": "execute_result"
    }
   ],
   "source": [
    "from datamaking import print_csv_columns\n",
    "i = 0\n",
    "csv_file_path = \"/Users/sumitpandey/Downloads/EEG-consciousness/input_data/train/\"+edf_files[i][:-3]+'csv'\n",
    "\n",
    "\n",
    "print_csv_columns(csv_file_path)"
   ]
  },
  {
   "cell_type": "code",
   "execution_count": 15,
   "metadata": {},
   "outputs": [
    {
     "name": "stdout",
     "output_type": "stream",
     "text": [
      "Histogram saved as '10GK-EDF+1.png.png'\n"
     ]
    },
    {
     "data": {
      "image/png": "[encoded data removed]",
      "text/plain": [
       "<Figure size 1000x600 with 1 Axes>"
      ]
     },
     "metadata": {},
     "output_type": "display_data"
    }
   ],
   "source": [
    "def plot_description_histogram(csv_file_path, output_file_name):\n",
    "    # Read the .csv file using pandas\n",
    "    df = pd.read_csv(csv_file_path)\n",
    "    \n",
    "    # Check if the 'description' column exists\n",
    "    if 'description' not in df.columns:\n",
    "        print(\"The file does not contain a 'description' column.\")\n",
    "        return\n",
    "    \n",
    "    # Extract unique values from the 'description' column\n",
    "    unique_descriptions = df['description'].dropna().unique()\n",
    "    \n",
    "    # Count the occurrences of each unique description\n",
    "    description_counts = df['description'].value_counts().loc[unique_descriptions]\n",
    "    \n",
    "    # Plot a histogram of the unique description counts\n",
    "    plt.figure(figsize=(10, 6))\n",
    "    description_counts.plot(kind='bar')\n",
    "    plt.title('Histogram of Unique Descriptions')\n",
    "    plt.xlabel('Description')\n",
    "    plt.ylabel('Frequency')\n",
    "    \n",
    "    # Save the histogram as a .png file\n",
    "    plt.savefig(f'{output_file_name}.png')\n",
    "    print(f\"Histogram saved as '{output_file_name}.png'\")\n",
    "\n",
    "# Example usage:\n",
    "# Replace 'your_csv_file_path.csv' with the actual path to your .csv file\n",
    "# and 'output_histogram' with your desired output file name (without extension)\n",
    "# plot_description_histogram('your_csv_file_path.csv', 'output_histogram')\n",
    "\n",
    "plot_description_histogram(csv_file_path, edf_files[i][:-3]+'png')"
   ]
  },
  {
   "cell_type": "markdown",
   "metadata": {},
   "source": [
    "# Step 3: make a machine learning model"
   ]
  },
  {
   "cell_type": "code",
   "execution_count": null,
   "metadata": {},
   "outputs": [],
   "source": [
    "\n",
    "\n"
   ]
  }
 ],
 "metadata": {
  "kernelspec": {
   "display_name": "EEG",
   "language": "python",
   "name": "python3"
  },
  "language_info": {
   "codemirror_mode": {
    "name": "ipython",
    "version": 3
   },
   "file_extension": ".py",
   "mimetype": "text/x-python",
   "name": "python",
   "nbconvert_exporter": "python",
   "pygments_lexer": "ipython3",
   "version": "3.9.18"
  }
 },
 "nbformat": 4,
 "nbformat_minor": 2
}
